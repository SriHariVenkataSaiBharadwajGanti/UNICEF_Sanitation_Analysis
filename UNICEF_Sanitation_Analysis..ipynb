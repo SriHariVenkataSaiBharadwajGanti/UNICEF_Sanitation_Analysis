!pip install plotnine
!pip install geopandas
!pip install mapclassify
!pip install seaborn
!wget https://github.com/quarto-dev/quarto-cli/releases/download/v1.6.43/quarto-1.6.43-linux-amd64.deb
!sudo dpkg -i quarto-1.6.43-linux-amd64.deb

%%writefile analysis.qmd
---
title: "UNICEF Assignment"
subtitle: Global Sanitation Access Analysis - 2024
author: Sri Hari Venkata Sai Bharadwaj Ganti - 14723
date: last-modified
date-format: "MM-DD-YYYY"
format:
   html:
     embed-resources: true
     theme: lumen
     smooth-scroll: true
     font-family: Roboto
     toc: true
     toc-title: Report Contents
     toc-depth: 3
     toc-location: right
     code-fold: true
     code-line-numbers: true
     code-tools: true
     code-link: true
     code-highlight-style: monokai
execute:
  echo: false
  warning: false
  message: false
---
# Report Summary

This report highlights global disparities in access to basic sanitation facilities and explores their critical link to public health and economic outcomes.

Data for this analysis has been sourced from UNICEF’s global sanitation datasets, covering 2000 to 2020 across multiple countries.


The color palette uses **blue shades** to represent higher access to sanitation facilities, and **red shades** to highlight areas with poor or limited sanitation coverage.

---

# Key Highlights

- **Global Progress:**
  Significant improvements in access to basic sanitation have been recorded worldwide between 2000 and 2020, indicating steady global progress toward the Sustainable Development Goals (SDGs).

- **Regional Disparities:**
  Despite overall progress, severe regional disparities persist — particularly in Sub-Saharan Africa and parts of South Asia — where sanitation access remains critically low compared to global averages.

- **Persistent Challenges:**
  Certain low-income countries have shown minimal growth in sanitation infrastructure, emphasizing the urgent need for targeted humanitarian and development interventions.

- **Two-Decade Trend Analysis:**
  A comparative analysis over 20 years reveals that although global sanitation access has improved, **more than 40 countries** still report sanitation coverage below 50%, posing significant public health risks.

- **Link to Economic Development:**
  A strong positive correlation was observed between rising sanitation access rates and indicators of economic development, underscoring the role of infrastructure investment in improving quality of life.

- **Impact of Population Growth:**
  Rapid population growth, particularly in developing regions, has intensified the challenge of achieving universal sanitation access, highlighting the importance of scalable and sustainable solutions.

# Import necessary libraries
import pandas as pd
import numpy as np
import plotly.express as px
import plotly.graph_objects as go
from plotly.subplots import make_subplots
import geopandas as gpd
from plotnine import *

# Install required packages if not already installed
!pip install plotly
!pip install geopandas

# Mount Google Drive
from google.colab import drive
drive.mount('/content/drive')

# Read the CSV file
try:
    # Replace with your file path
    file_path = '/content/drive/MyDrive/UNICEF_Analysis/cleaned_sanitation_data.csv'
    df = pd.read_csv(file_path,
                     on_bad_lines='skip',
                     low_memory=False)

    # Initial data cleaning and preparation
    # Convert Year to datetime
    df['Year'] = pd.to_datetime(df['Year'], format='%Y')

    # Remove any rows with missing values
    df = df.dropna(subset=['Sanitation_Access (%)', 'Country', 'Country_Code'])

    # Add region classification
    # This is a simplified region mapping - expand based on your needs
    region_mapping = {
        'ALB': 'Europe',
        'USA': 'North America',
        'CAN': 'North America',
        'BRA': 'South America',
        'ARG': 'South America',
        'CHN': 'Asia',
        'IND': 'Asia',
        'AUS': 'Oceania',
        'NZL': 'Oceania',
        'ZAF': 'Africa',
        'KEN': 'Africa',
        # Add more mappings as needed
    }

    df['Region'] = df['Country_Code'].map(region_mapping)

    print("Data loaded successfully!")
    print("\nDataset Overview:")
    print(f"Number of records: {len(df)}")
    print(f"Time period: {df['Year'].min().year} to {df['Year'].max().year}")
    print(f"Number of countries: {df['Country'].nunique()}")

except Exception as e:
    print(f"Error loading data: {e}")

# Import required libraries
import pandas as pd
import numpy as np
from google.colab import files
import matplotlib.pyplot as plt
import plotly.express as px
import seaborn as sns
import geopandas as gpd
import requests
from io import StringIO

# Install required packages if not already installed
!pip install plotly
!pip install geopandas




def create_global_distribution_interactive(data):
    print("Creating interactive global distribution visualization...")
    try:
        # Calculate average sanitation access per country
        country_avg = data.groupby('Country', as_index=False)['Sanitation_Access (%)'].mean()

        # Plotly expects ISO country codes for mapping
        # If you have country codes, use them; otherwise, Plotly can map by country name (less reliable)
        fig = px.choropleth(
            country_avg,
            locations="Country",  # If you have ISO codes, use: locations="Country_Code"
            locationmode="country names",  # or "ISO-3" if using codes
            color="Sanitation_Access (%)",
            color_continuous_scale="RdBu",
            title="Global Sanitation Access (2000-2022)<br>Average Population with Basic Sanitation",
            labels={"Sanitation_Access (%)": "% Population with Basic Sanitation"},
            hover_name="Country"
        )
        fig.update_layout(
            geo=dict(showframe=False, showcoastlines=False),
            margin={"r":0,"t":50,"l":0,"b":0}
        )
        return fig

    except Exception as e:
        print(f"Error in creating global distribution: {str(e)}")
        # Fallback: interactive bar chart
        country_avg = data.groupby('Country', as_index=False)['Sanitation_Access (%)'].mean()
        country_avg = country_avg.sort_values('Sanitation_Access (%)', ascending=True)
        fig = px.bar(
            country_avg,
            x='Sanitation_Access (%)',
            y='Country',
            orientation='h',
            title="Global Sanitation Access (2000-2022)<br>Average by Country"
        )
        return fig

# 2. Regional Trends
def create_regional_trends(data):
    print("Creating regional trends visualization...")
    # Get latest year data
    latest_year = data['Year'].max()
    latest = data[data['Year'] == latest_year].copy()

    # Create the plot
    fig, ax = plt.subplots(figsize=(10, 6))
    sns.histplot(data=latest['Sanitation_Access (%)'],
                bins=20,
                color='royalblue',
                kde=True)

    plt.title(f"Distribution of Sanitation Access ({latest_year})")
    plt.xlabel("Sanitation Access (%)")
    plt.ylabel("Number of Countries")
    plt.tight_layout()

    return fig

# 3. Time Series Comparison
def create_time_series(data):
    print("Creating time series comparison...")
    # Calculate global trend
    trend = data.groupby('Year', as_index=False)['Sanitation_Access (%)'].mean()

    # Create the plot
    fig, ax = plt.subplots(figsize=(10, 6))
    sns.lineplot(data=trend, x='Year', y='Sanitation_Access (%)',
                marker='o', color='royalblue')

    plt.title("Global Sanitation Access Over Time (2000-2022)")
    plt.xlabel("Year")
    plt.ylabel("Average Sanitation Access (%)")
    plt.grid(True, axis='y', linestyle='--', alpha=0.7)
    plt.tight_layout()

    return fig


import plotly.express as px
import plotly.graph_objects as go


def create_performers_comparison():
    try:
        # Calculate progress for each country
        latest_year = df['Year'].dt.year.max()
        earliest_year = df['Year'].dt.year.min()

        # Create progress dataframe
        df_year = df.copy()
        df_year['Year'] = df_year['Year'].dt.year

        progress_df = df_year[df_year['Year'].isin([earliest_year, latest_year])].pivot(
            index=['Country', 'Region'],  # Include Region for additional context
            columns='Year',
            values='Sanitation_Access (%)'
        ).reset_index()

        # Calculate progress
        progress_df['Progress'] = progress_df[latest_year] - progress_df[earliest_year]

        # Rename the year columns for clarity
        progress_df = progress_df.rename(columns={
            earliest_year: f'Initial_{earliest_year}',
            latest_year: f'Final_{latest_year}'
        })

        # Get top and bottom performers
        top_10 = progress_df.nlargest(10, 'Progress')
        bottom_10 = progress_df.nsmallest(10, 'Progress')

        # Create figures list to store all visualizations
        figs = []

        # Create top performers figure
        fig1 = px.bar(top_10,
                     x='Country',
                     y=['Initial_' + str(earliest_year), 'Final_' + str(latest_year)],
                     barmode='group',
                     color_discrete_sequence=['lightblue', 'darkblue'],
                     title=f'Top 10 Most Improved Countries ({earliest_year}-{latest_year})',
                     hover_data={
                         'Country': True,
                         'Region': True,
                         'Progress': ':.1f'
                     })

        # Update layout for top performers
        fig1.update_layout(
            width=1000,
            height=600,
            showlegend=True,
            xaxis_title='Country',
            yaxis_title='Sanitation Access (%)',
            hoverlabel=dict(
                bgcolor="white",
                font_size=12,
                font_family="Arial"
            ),
            updatemenus=[{
                'buttons': [
                    {'method': 'update',
                     'label': 'Show Both',
                     'args': [{'visible': [True, True]}]},
                    {'method': 'update',
                     'label': 'Initial Only',
                     'args': [{'visible': [True, False]}]},
                    {'method': 'update',
                     'label': 'Final Only',
                     'args': [{'visible': [False, True]}]}
                ],
                'direction': 'down',
                'showactive': True,
                'x': 0.1,
                'y': 1.1,
            }]
        )

        # Create bottom performers figure
        fig2 = px.bar(bottom_10,
                     x='Country',
                     y=['Initial_' + str(earliest_year), 'Final_' + str(latest_year)],
                     barmode='group',
                     color_discrete_sequence=['lightgreen', 'darkgreen'],
                     title=f'Bottom 10 Least Improved Countries ({earliest_year}-{latest_year})',
                     hover_data={
                         'Country': True,
                         'Region': True,
                         'Progress': ':.1f'
                     })

        # Update layout for bottom performers
        fig2.update_layout(
            width=1000,
            height=600,
            showlegend=True,
            xaxis_title='Country',
            yaxis_title='Sanitation Access (%)',
            hoverlabel=dict(
                bgcolor="white",
                font_size=12,
                font_family="Arial"
            ),
            updatemenus=[{
                'buttons': [
                    {'method': 'update',
                     'label': 'Show Both',
                     'args': [{'visible': [True, True]}]},
                    {'method': 'update',
                     'label': 'Initial Only',
                     'args': [{'visible': [True, False]}]},
                    {'method': 'update',
                     'label': 'Final Only',
                     'args': [{'visible': [False, True]}]}
                ],
                'direction': 'down',
                'showactive': True,
                'x': 0.1,
                'y': 1.1,
            }]
        )

        # Create statistics table
        performers_stats = pd.DataFrame({
            'Metric': ['Top Performer', 'Bottom Performer', 'Average Improvement', 'Median Improvement'],
            'Country': [
                top_10.iloc[0]['Country'],
                bottom_10.iloc[0]['Country'],
                'All Countries',
                'All Countries'
            ],
            'Progress (%)': [
                top_10.iloc[0]['Progress'],
                bottom_10.iloc[0]['Progress'],
                progress_df['Progress'].mean(),
                progress_df['Progress'].median()
            ]
        })

        fig3 = go.Figure(data=[go.Table(
            header=dict(
                values=['Metric', 'Country', 'Progress (%)'],
                fill_color='paleturquoise',
                align='left'
            ),
            cells=dict(
                values=[
                    performers_stats['Metric'],
                    performers_stats['Country'],
                    performers_stats['Progress (%)'].round(2)
                ],
                fill_color='lavender',
                align='left'
            )
        )])

        fig3.update_layout(
            title='Performance Statistics Summary',
            width=1000
        )

        # Add figures to the list
        figs = [
            {'name': 'Top Performers', 'fig': fig1},
            {'name': 'Bottom Performers', 'fig': fig2},
            {'name': 'Performance Statistics', 'fig': fig3}
        ]

        # Print the column names for debugging
        print("Available columns in progress_df:", progress_df.columns.tolist())

        return figs

    except Exception as e:
        print(f"Error creating performers comparison: {e}")
        return None

# Create and display the visualizations
try:
    # Generate visualizations
    figs = create_performers_comparison()

    if figs is not None:
        # Display all figures
        for fig_dict in figs:
            print(f"\n{fig_dict['name']}:")
            fig_dict['fig'].show()

        # Calculate and display additional insights
        df_year = df.copy()
        df_year['Year'] = df_year['Year'].dt.year

        performers_summary = df_year.groupby('Region')['Sanitation_Access (%)'].agg([
            ('Top Performer', lambda x: x.max()),
            ('Bottom Performer', lambda x: x.min()),
            ('Regional Range', lambda x: x.max() - x.min())
        ]).round(2)

        print("\nRegional Performance Summary:")
        display(performers_summary)

except Exception as e:
    print(f"Error displaying visualizations: {e}")

def create_yoy_analysis():
    # Calculate year-over-year change
    df_sorted = df.sort_values(['Country', 'Year'])
    df_sorted['YoY_Change'] = df_sorted.groupby('Country')['Sanitation_Access (%)'].diff()

    fig = px.scatter(df_sorted,
                     x='Year',
                     y='YoY_Change',
                     color='Country',
                     title='Year-over-Year Changes in Sanitation Access',
                     trendline="lowess")

    fig.update_layout(
        width=1000,
        height=600,
        showlegend=False
    )

    return fig

yoy_fig = create_yoy_analysis()
yoy_fig.show()


import plotly.express as px
import numpy as np

def create_vulnerability_index_interactive(data):
    print("Creating interactive vulnerability index visualization...")
    # Calculate global trend
    trend = data.groupby('Year', as_index=False)['Sanitation_Access (%)'].mean()

    # Ensure Year is integer for regression
    trend['Year'] = trend['Year'].dt.year

    # Fit a linear regression for the trend line
    z = np.polyfit(trend['Year'], trend['Sanitation_Access (%)'], 1)
    p = np.poly1d(z)
    trend['Regression'] = p(trend['Year'])

    # Create interactive scatter plot
    fig = px.scatter(
        trend,
        x='Year',
        y='Sanitation_Access (%)',
        color_discrete_sequence=["#FF9900"],
        title="Regression of Global Sanitation Access Over Time"
    )

    # Add regression line
    fig.add_traces(
        px.line(
            trend,
            x='Year',
            y='Regression',
            color_discrete_sequence=["#FF9900"]
        ).data
    )

    fig.update_traces(marker=dict(size=10), selector=dict(mode='markers'))
    fig.update_layout(
        xaxis_title="Year",
        yaxis_title="Average Sanitation Access (%)",
        plot_bgcolor='white',
        width=900,
        height=500,
        font=dict(family="Arial", size=14, color="black"),
        title={'x':0.5, 'xanchor':'center'},
        showlegend=False
    )
    fig.update_xaxes(showgrid=True, gridwidth=1, gridcolor='lightgray')
    fig.update_yaxes(showgrid=True, gridwidth=1, gridcolor='lightgray')

    fig.show()
    return fig

def create_gap_analysis():
    latest_year = df['Year'].max()
    latest_data = df[df['Year'] == latest_year].copy()

    # Calculate distance to 100% access
    latest_data['Gap_to_Full_Access'] = 100 - latest_data['Sanitation_Access (%)']

    # Create bubble chart
    fig = px.scatter(latest_data,
                     x='Sanitation_Access (%)',
                     y='Gap_to_Full_Access',
                     size='Gap_to_Full_Access',
                     color='Country',
                     hover_name='Country',
                     title=f'Achievement Gap Analysis ({latest_year})')

    fig.update_layout(
        width=1000,
        height=600,
        showlegend=False
    )

    return fig

gap_fig = create_gap_analysis()
gap_fig.show()

try:
    # Generate all plots
    print("\nGenerating visualizations...")
    global_dist = create_global_distribution_interactive(df)
    regional_trends = create_regional_trends(df)
    time_series = create_time_series(df)
    vulnerability_index = create_vulnerability_index_interactive(df)
    time_series_latest = create_yoy_analysis()
    performers_analysis = create_performers_comparison()
    gap_analysis = create_gap_analysis()

except Exception as e:
    print(f"An error occurred: {str(e)}")
# Save all plots
print("\nSaving visualizations...")
    # Save all matplotlib plots
regional_trends.savefig("regional_trends.png", dpi=300, bbox_inches='tight')
time_series.savefig("time_series.png", dpi=300, bbox_inches='tight')
fig = create_global_distribution_interactive(df)
fig.write_html("global_distribution.html")


!pip install -U kaleido
# Import required libraries
import plotly.io as pio
import os

try:
    # Create figures directory if it doesn't exist
    if not os.path.exists('figures'):
        os.makedirs('figures')

    # Generate all plots
    print("\nGenerating visualizations...")

    # Dictionary to store all figures
    figs = {}

    # 1. World Map
    figs['world_map'] = create_global_distribution_interactive(df)

    # 2. Vulnerability index
    figs['vulnerability_index'] = create_vulnerability_index_interactive(df)

    # 6. YoY Analysis
    figs['yoy_analysis'] = create_yoy_analysis()

    # 7. Gap Analysis
    figs['gap_analysis'] = create_gap_analysis()

    # Save all plots
    print("\nSaving visualizations...")

    # Restart the runtime if needed (sometimes required in Colab)
    import IPython
    IPython.get_ipython().kernel.do_shutdown(True)

    for name, fig in figs.items():
        try:
            # Save as PNG
            output_path = f"figures/{name}.svg"
            fig.write_image(
                output_path,
                width=1200,
                height=800,
                scale=2
            )
            print(f"✓ Saved {name}.svg")

        except Exception as e:
            print(f"Error saving {name}: {e}")

    print("\nAll visualizations have been saved!")

    # List all generated files
    print("\nGenerated files:")
    for file in os.listdir('figures'):
        print(f"- {file}")

except Exception as e:
    print(f"An error occurred: {str(e)}")

print("All visualizations have been generated and saved successfully!")

%%writefile -a analysis.qmd

# Global Sanitation Access Analysis

## Global Distribution

The world map below visualizes the percentage of population with access to basic sanitation services globally:

![Global distribution of sanitation access](figures/world_map.svg)

**Actionable Insights:**
![Year-Over-Year Changes](figures/yoy_analysis.svg)
- **Developed regions** (e.g., Europe, North America, Australia) show sanitation access rates exceeding **90%**.
- **Sub-Saharan Africa** and parts of **South Asia** continue to struggle, with access rates often below **50%**.
- Geographic clustering of low-access areas highlights where **international aid and policy focus** are urgently needed.
- **Middle-income countries** show uneven patterns, suggesting **urban-rural disparities** that require tailored solutions.

---

## Regional Trends Analysis

The regional trends chart highlights sanitation access distribution across different global regions:

![Distribution of sanitation access](regional_trends.png)

**Key Observations:**
- **Wide gaps** exist between regions — with **Sub-Saharan Africa** significantly trailing other regions.
- **East Asia and Pacific** show impressive growth towards near-universal sanitation.
- **Latin America** demonstrates a strong middle-tier performance but with notable outliers.
- Regional clustering suggests that **regional strategies** (not one-size-fits-all) are essential for progress.

---

## Temporal Trends

The time-series chart demonstrates the evolution of global sanitation access between 2000 and 2020:

![Global sanitation access trends](time_series.png)

**Key Findings:**
- A **steady upward trend** is observed globally over the two decades.
- Periods of **accelerated progress** are seen post-2010, coinciding with global sanitation initiatives.
- **Recent years** (2015–2020) show slower progress, likely influenced by emerging crises (e.g., COVID-19, economic instability).
- Emphasizes the need for **resilience strategies** to maintain momentum even during global disruptions.

---

## Current State and Latest Trends

The latest snapshot comparing recent country-level performance:

![Latest year sanitation access snapshot](time_series_latest.png)

**Insights:**
- **Over 40 countries** still report sanitation access below **50%**.
- **Notable improvements** in South-East Asia and parts of North Africa, nearing **universal access**.
- Identifies **critical countries** that require prioritized interventions based on most recent data.

---

## Vulnerability Index Analysis

The vulnerability index plot shows countries most at risk due to poor sanitation access:

![Vulnerability index analysis](figures/vulnerability_index.svg)

**Critical Insights:**
- **High vulnerability** is concentrated in low-income and fragile states.
- These regions often face a combination of **economic fragility**, **political instability**, and **low sanitation access**.
- Highlights the **intersectionality** of sanitation access with broader human development challenges.
- Suggests **targeted, multisectoral interventions** beyond just sanitation infrastructure.

---

## Gap Analysis: Top vs Bottom Performers

The gap analysis visualization contrasts the highest and lowest performers globally:

![Top and bottom countries gap analysis](figures/gap_analysis.svg)

**Detailed Observations:**
- The **top 10 countries** consistently maintain access rates above **95%**.
- The **bottom 10 countries** remain below **40%**, showing limited progress over two decades.
- Countries with the greatest improvement demonstrate that **focused government policies** and **external partnerships** (e.g., NGO support) are effective.

---

# Conclusions and Recommendations

## Key Findings

1. **Global Progress:**
   - Global sanitation access has improved steadily from 2000 to 2020.
   - Positive correlation between access levels and indicators like GDP per capita and literacy rates.

2. **Challenges Remain:**
   - Deep regional disparities persist, particularly in Sub-Saharan Africa and fragile states.
   - Vulnerable populations face compounded risks without adequate sanitation.

3. **Success Stories:**
   - Countries like Vietnam, Morocco, and Thailand showcase best practices worth replicating.

## Recommendations

### Policy Recommendations
- **Prioritize Investment:**
  Direct resources toward low-access countries and regions.

- **Tailor Strategies:**
  Design region-specific interventions acknowledging cultural, economic, and geographical differences.

- **Strengthen Resilience:**
  Develop programs that can sustain progress even during global crises (e.g., pandemics, conflicts).

### Implementation Suggestions
- **Leverage Technology:**
  Use mobile-based monitoring to track sanitation improvements at community levels.

- **Scale Best Practices:**
  Document and replicate successful models from high-performing countries.

- **Integrate Education Campaigns:**
  Promote sanitation through public health education alongside infrastructure development.

### Future Directions
- **Enhance Data Quality:**
  Expand and improve real-time data collection on sanitation at national and sub-national levels.

- **Model Predictive Trends:**
  Employ machine learning models to forecast sanitation trends and target interventions.

- **Foster Global Collaboration:**
  Strengthen partnerships between governments, international organizations, and private sectors.

---

# References

1. UNICEF Global Sanitation Database, 2024
2. WHO Progress on Sanitation and Drinking Water Reports
3. UN Sustainable Development Goals (SDG 6)
4. World Bank Global Development Indicators

# Render the document
!quarto render analysis.qmd --to html

# Mount Google Drive
from google.colab import drive
drive.mount('/content/drive')

# Create directory and copy files
!mkdir -p "/content/drive/My Drive/UNICEF_Analysis"
!cp analysis.html "/content/drive/My Drive/UNICEF_Analysis/Sanitation_analysis.html"
!cp *.png "/content/drive/My Drive/UNICEF_Analysis/"

print("Analysis has been saved to Google Drive in the UNICEF_Analysis folder")
